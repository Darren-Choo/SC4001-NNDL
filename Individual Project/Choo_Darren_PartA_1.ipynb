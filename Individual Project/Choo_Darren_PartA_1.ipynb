{
 "cells": [
  {
   "cell_type": "markdown",
   "id": "d01f9669-6940-4311-bcf9-e930ba3457f2",
   "metadata": {
    "deletable": false,
    "editable": false,
    "id": "d01f9669-6940-4311-bcf9-e930ba3457f2",
    "nbgrader": {
     "cell_type": "markdown",
     "checksum": "2ad988175a8c2593a35c27c5a89d6ea5",
     "grade": false,
     "grade_id": "a1",
     "locked": true,
     "schema_version": 3,
     "solution": false,
     "task": false
    },
    "tags": []
   },
   "source": [
    "# Question A1 (15 marks)"
   ]
  },
  {
   "cell_type": "markdown",
   "id": "2fd870a1-6368-4b4f-9cbb-7eac0acda4ec",
   "metadata": {
    "deletable": false,
    "editable": false,
    "id": "2fd870a1-6368-4b4f-9cbb-7eac0acda4ec",
    "nbgrader": {
     "cell_type": "markdown",
     "checksum": "74435a282dd0f8cb4705e88829506c4e",
     "grade": false,
     "grade_id": "a1_overall",
     "locked": true,
     "schema_version": 3,
     "solution": false,
     "task": false
    },
    "tags": []
   },
   "source": [
    "#### Design a feedforward deep neural network (DNN) which consists of **three** hidden layers of 128 neurons each with ReLU activation function, and an output layer with sigmoid activation function. Apply dropout of probability **0.2** to each of the hidden layers.\n",
    "\n",
    "* note: some cells are non-editable and cannot be filled, but leave them untouched. Fill up only cells which are provided."
   ]
  },
  {
   "cell_type": "code",
   "execution_count": 3,
   "id": "3af871c6-6baa-4eff-b46a-eb7a81faac13",
   "metadata": {
    "deletable": false,
    "editable": false,
    "executionInfo": {
     "elapsed": 305,
     "status": "ok",
     "timestamp": 1695270004835,
     "user": {
      "displayName": "Darren Choo",
      "userId": "04652939558548281765"
     },
     "user_tz": -480
    },
    "id": "3af871c6-6baa-4eff-b46a-eb7a81faac13",
    "nbgrader": {
     "cell_type": "code",
     "checksum": "909acb3c7ff3883eb5381eb586615d3b",
     "grade": false,
     "grade_id": "libraries",
     "locked": true,
     "schema_version": 3,
     "solution": false,
     "task": false
    },
    "tags": []
   },
   "outputs": [],
   "source": [
    "import tqdm\n",
    "import time\n",
    "import random\n",
    "import numpy as np\n",
    "import pandas as pd\n",
    "import matplotlib.pyplot as plt\n",
    "\n",
    "import torch\n",
    "from torch import nn\n",
    "from torch.utils.data import Dataset\n",
    "from torch.utils.data import DataLoader\n",
    "\n",
    "from scipy.io import wavfile as wav\n",
    "\n",
    "from sklearn import preprocessing\n",
    "from sklearn.model_selection import KFold\n",
    "from sklearn.model_selection import train_test_split\n",
    "from sklearn.metrics import f1_score, precision_score, recall_score, confusion_matrix\n",
    "\n",
    "from common_utils import set_seed\n",
    "\n",
    "# setting seed\n",
    "set_seed()"
   ]
  },
  {
   "cell_type": "markdown",
   "id": "27828402-6f73-4afc-ad4b-d537b94406fc",
   "metadata": {
    "deletable": false,
    "editable": false,
    "id": "27828402-6f73-4afc-ad4b-d537b94406fc",
    "nbgrader": {
     "cell_type": "markdown",
     "checksum": "238677075e1bc63851fa208a1937b0d0",
     "grade": false,
     "grade_id": "a1_1_2",
     "locked": true,
     "schema_version": 3,
     "solution": false,
     "task": false
    },
    "tags": []
   },
   "source": [
    "1. Define the model class."
   ]
  },
  {
   "cell_type": "code",
   "execution_count": 4,
   "id": "f0a262dc-01fc-42d3-9554-a2a9b41db5f6",
   "metadata": {
    "deletable": false,
    "executionInfo": {
     "elapsed": 7,
     "status": "ok",
     "timestamp": 1695270005228,
     "user": {
      "displayName": "Darren Choo",
      "userId": "04652939558548281765"
     },
     "user_tz": -480
    },
    "id": "f0a262dc-01fc-42d3-9554-a2a9b41db5f6",
    "nbgrader": {
     "cell_type": "code",
     "checksum": "ffe9e91761659732c1cda9441c248079",
     "grade": false,
     "grade_id": "mlp",
     "locked": false,
     "schema_version": 3,
     "solution": true,
     "task": false
    },
    "tags": []
   },
   "outputs": [],
   "source": [
    "class MLP(nn.Module):\n",
    "\n",
    "    def __init__(self, no_features, no_hidden, no_labels):\n",
    "        super().__init__()\n",
    "        self.mlp_stack = nn.Sequential(\n",
    "            # YOUR CODE HERE\n",
    "            nn.Linear(no_features, no_hidden),  #first hidden layer\n",
    "            nn.ReLU(),\n",
    "            nn.Dropout(0.2),\n",
    "\n",
    "            nn.Linear(no_hidden, no_hidden),  #second hidden layer\n",
    "            nn.ReLU(),\n",
    "            nn.Dropout(0.2),\n",
    "\n",
    "            nn.Linear(no_hidden, no_hidden),  #third hidden layer\n",
    "            nn.ReLU(),\n",
    "            nn.Dropout(0.2),\n",
    "\n",
    "            nn.Linear(no_hidden, no_labels),  #output layer\n",
    "            nn.Sigmoid()\n",
    "        )\n",
    "\n",
    "    # YOUR CODE HERE\n",
    "    def forward(self, x):\n",
    "        logits = self.mlp_stack(x)\n",
    "        return logits"
   ]
  },
  {
   "cell_type": "code",
   "execution_count": null,
   "id": "078b1948-74c4-4619-a23f-3e5c7624ff9a",
   "metadata": {
    "deletable": false,
    "editable": false,
    "executionInfo": {
     "elapsed": 7,
     "status": "ok",
     "timestamp": 1695270005228,
     "user": {
      "displayName": "Darren Choo",
      "userId": "04652939558548281765"
     },
     "user_tz": -480
    },
    "id": "078b1948-74c4-4619-a23f-3e5c7624ff9a",
    "nbgrader": {
     "cell_type": "code",
     "checksum": "d390df361e01c7ad9ed2ed99a7e8c891",
     "grade": true,
     "grade_id": "correct_mlp",
     "locked": true,
     "points": 1,
     "schema_version": 3,
     "solution": false,
     "task": false
    },
    "tags": []
   },
   "outputs": [],
   "source": []
  },
  {
   "cell_type": "code",
   "execution_count": null,
   "id": "e77f955d-0cbb-4f45-8a7a-efe0af645fb1",
   "metadata": {
    "deletable": false,
    "editable": false,
    "executionInfo": {
     "elapsed": 6,
     "status": "ok",
     "timestamp": 1695270005228,
     "user": {
      "displayName": "Darren Choo",
      "userId": "04652939558548281765"
     },
     "user_tz": -480
    },
    "id": "e77f955d-0cbb-4f45-8a7a-efe0af645fb1",
    "nbgrader": {
     "cell_type": "code",
     "checksum": "acd75cd2a88aa738b9c7ab44fd639829",
     "grade": true,
     "grade_id": "correct_mlp2",
     "locked": true,
     "points": 1,
     "schema_version": 3,
     "solution": false,
     "task": false
    },
    "tags": []
   },
   "outputs": [],
   "source": []
  },
  {
   "cell_type": "markdown",
   "id": "c508f1a3-1781-403e-a6c8-2133c83cf2c0",
   "metadata": {
    "deletable": false,
    "editable": false,
    "id": "c508f1a3-1781-403e-a6c8-2133c83cf2c0",
    "nbgrader": {
     "cell_type": "markdown",
     "checksum": "8fa5e10c9346a8cc9f313cfdeffb29ad",
     "grade": false,
     "grade_id": "a1_2",
     "locked": true,
     "schema_version": 3,
     "solution": false,
     "task": false
    },
    "tags": []
   },
   "source": [
    "#### Divide the dataset into a 70:30 ratio for training and testing. Use **appropriate** scaling of input features. We solely assume that there are only two datasets here: training & test."
   ]
  },
  {
   "cell_type": "markdown",
   "id": "e95fca82-4f7a-4017-8990-e36a78db1560",
   "metadata": {
    "deletable": false,
    "editable": false,
    "id": "e95fca82-4f7a-4017-8990-e36a78db1560",
    "nbgrader": {
     "cell_type": "markdown",
     "checksum": "5b42952eb98d955700c9f15482aa73f1",
     "grade": false,
     "grade_id": "a1_2_1",
     "locked": true,
     "schema_version": 3,
     "solution": false,
     "task": false
    },
    "tags": []
   },
   "source": [
    "1. Split the dataset and do preprocessing."
   ]
  },
  {
   "cell_type": "code",
   "execution_count": 7,
   "id": "c5fa518e-36fc-4071-839f-65766fe06f67",
   "metadata": {
    "deletable": false,
    "executionInfo": {
     "elapsed": 362,
     "status": "ok",
     "timestamp": 1695270005584,
     "user": {
      "displayName": "Darren Choo",
      "userId": "04652939558548281765"
     },
     "user_tz": -480
    },
    "id": "c5fa518e-36fc-4071-839f-65766fe06f67",
    "nbgrader": {
     "cell_type": "code",
     "checksum": "7f3aaa6c1bc49a791e2d944fbffa3785",
     "grade": false,
     "grade_id": "preprocess",
     "locked": false,
     "schema_version": 3,
     "solution": true,
     "task": false
    },
    "scrolled": true,
    "tags": []
   },
   "outputs": [],
   "source": [
    "from common_utils import split_dataset, preprocess_dataset\n",
    "\n",
    "\n",
    "def preprocess(df):\n",
    "    # YOUR CODE HERE\n",
    "    columns_to_drop = [\"filename\",\"label\"]\n",
    "    X_train, y_train, X_test, y_test = split_dataset(df, columns_to_drop, 0.3, 0)\n",
    "\n",
    "    X_train_scaled, X_test_scaled = preprocess_dataset(X_train, X_test)\n",
    "\n",
    "    return X_train_scaled, y_train, X_test_scaled, y_test\n",
    "\n",
    "df = pd.read_csv('simplified.csv')\n",
    "df['label'] = df['filename'].str.split('_').str[-2]\n",
    "\n",
    "df['label'].value_counts()\n",
    "\n",
    "X_train_scaled, y_train, X_test_scaled, y_test = preprocess(df)"
   ]
  },
  {
   "cell_type": "code",
   "execution_count": null,
   "id": "52d2caa3-82e3-42a1-b2b2-9d7025fe9e47",
   "metadata": {
    "deletable": false,
    "editable": false,
    "executionInfo": {
     "elapsed": 5,
     "status": "ok",
     "timestamp": 1695270005585,
     "user": {
      "displayName": "Darren Choo",
      "userId": "04652939558548281765"
     },
     "user_tz": -480
    },
    "id": "52d2caa3-82e3-42a1-b2b2-9d7025fe9e47",
    "nbgrader": {
     "cell_type": "code",
     "checksum": "c00bd6df39380d7a83a15f62195f2c8c",
     "grade": true,
     "grade_id": "correct_preprocess",
     "locked": true,
     "points": 1,
     "schema_version": 3,
     "solution": false,
     "task": false
    },
    "tags": []
   },
   "outputs": [],
   "source": []
  },
  {
   "cell_type": "markdown",
   "id": "a819454c-0064-4d88-a35d-b54a3027f52f",
   "metadata": {
    "deletable": false,
    "editable": false,
    "id": "a819454c-0064-4d88-a35d-b54a3027f52f",
    "nbgrader": {
     "cell_type": "markdown",
     "checksum": "58c39624353d30c202964d96c43a724f",
     "grade": false,
     "grade_id": "a1_3",
     "locked": true,
     "schema_version": 3,
     "solution": false,
     "task": false
    },
    "tags": []
   },
   "source": [
    "#### Use the training dataset to train the model for 100 epochs. Use a mini-batch gradient descent with **‘Adam’** optimizer with learning rate of **0.001**, and **batch size = 256**. Implement early stopping with patience of **3**."
   ]
  },
  {
   "cell_type": "markdown",
   "id": "fc79c097-e526-474a-803f-354465ac02d7",
   "metadata": {
    "deletable": false,
    "editable": false,
    "id": "fc79c097-e526-474a-803f-354465ac02d7",
    "nbgrader": {
     "cell_type": "markdown",
     "checksum": "45710c8274bd2b7689ccd170af7be67c",
     "grade": false,
     "grade_id": "a1_3_1",
     "locked": true,
     "schema_version": 3,
     "solution": false,
     "task": false
    },
    "tags": []
   },
   "source": [
    "1. Define a Pytorch Dataset and Dataloaders.  "
   ]
  },
  {
   "cell_type": "code",
   "execution_count": 4,
   "id": "578b3050-9720-432b-9ef0-c29feba29e68",
   "metadata": {
    "deletable": false,
    "executionInfo": {
     "elapsed": 5,
     "status": "ok",
     "timestamp": 1695270005585,
     "user": {
      "displayName": "Darren Choo",
      "userId": "04652939558548281765"
     },
     "user_tz": -480
    },
    "id": "578b3050-9720-432b-9ef0-c29feba29e68",
    "nbgrader": {
     "cell_type": "code",
     "checksum": "808e279fafed9a2b06f06e824dc5fffe",
     "grade": false,
     "grade_id": "pytorch_dataset",
     "locked": false,
     "schema_version": 3,
     "solution": true,
     "task": false
    },
    "tags": []
   },
   "outputs": [],
   "source": [
    "class CustomDataset(Dataset):\n",
    "    # YOUR CODE HERE\n",
    "    def __init__(self, X, y):\n",
    "        self.X =torch.tensor(X, dtype=torch.float)\n",
    "        self.y =torch.tensor(y)\n",
    "\n",
    "    def __len__(self):\n",
    "        return len(self.y)\n",
    "\n",
    "    def __getitem__(self,idx):\n",
    "        return self.X[idx], self.y[idx]\n",
    "\n",
    "\n",
    "def intialise_loaders(X_train_scaled, y_train, X_test_scaled, y_test):\n",
    "    # YOUR CODE HERE\n",
    "    train_data = CustomDataset(X_train_scaled, y_train)\n",
    "    test_data = CustomDataset(X_test_scaled, y_test)\n",
    "\n",
    "    train_dataloader = DataLoader(train_data, batch_size=256, shuffle=True)\n",
    "    test_dataloader = DataLoader(test_data, batch_size=256, shuffle=True)\n",
    "\n",
    "    return train_dataloader, test_dataloader\n",
    "\n",
    "train_dataloader, test_dataloader = intialise_loaders(X_train_scaled, y_train, X_test_scaled, y_test)"
   ]
  },
  {
   "cell_type": "code",
   "execution_count": null,
   "id": "ebe01c6c-7011-4990-89bc-0b3c39df05c1",
   "metadata": {
    "deletable": false,
    "editable": false,
    "executionInfo": {
     "elapsed": 5,
     "status": "ok",
     "timestamp": 1695270005585,
     "user": {
      "displayName": "Darren Choo",
      "userId": "04652939558548281765"
     },
     "user_tz": -480
    },
    "id": "ebe01c6c-7011-4990-89bc-0b3c39df05c1",
    "nbgrader": {
     "cell_type": "code",
     "checksum": "29ad35220b667d0ccbddf8567df4bbe7",
     "grade": true,
     "grade_id": "correct_pytorch_dataset",
     "locked": true,
     "points": 1,
     "schema_version": 3,
     "solution": false,
     "task": false
    },
    "tags": []
   },
   "outputs": [],
   "source": []
  },
  {
   "cell_type": "code",
   "execution_count": null,
   "id": "30df1d63-bef3-47cb-926f-f32809ccb204",
   "metadata": {
    "deletable": false,
    "editable": false,
    "executionInfo": {
     "elapsed": 4,
     "status": "ok",
     "timestamp": 1695270005585,
     "user": {
      "displayName": "Darren Choo",
      "userId": "04652939558548281765"
     },
     "user_tz": -480
    },
    "id": "30df1d63-bef3-47cb-926f-f32809ccb204",
    "nbgrader": {
     "cell_type": "code",
     "checksum": "c4726e1ddc39f6641b2893a082b241ab",
     "grade": true,
     "grade_id": "correct_pytorch_dataset2",
     "locked": true,
     "points": 1,
     "schema_version": 3,
     "solution": false,
     "task": false
    },
    "tags": []
   },
   "outputs": [],
   "source": []
  },
  {
   "cell_type": "code",
   "execution_count": null,
   "id": "718bf3c6-261a-400b-937c-fe092b7e0c6d",
   "metadata": {
    "deletable": false,
    "editable": false,
    "executionInfo": {
     "elapsed": 5,
     "status": "ok",
     "timestamp": 1695270005586,
     "user": {
      "displayName": "Darren Choo",
      "userId": "04652939558548281765"
     },
     "user_tz": -480
    },
    "id": "718bf3c6-261a-400b-937c-fe092b7e0c6d",
    "nbgrader": {
     "cell_type": "code",
     "checksum": "20387d776dca6b012684e3a9f6df77dc",
     "grade": true,
     "grade_id": "correct_datasets_loaders",
     "locked": true,
     "points": 1,
     "schema_version": 3,
     "solution": false,
     "task": false
    },
    "tags": []
   },
   "outputs": [],
   "source": []
  },
  {
   "cell_type": "code",
   "execution_count": null,
   "id": "c50c1c87-c3ff-47b2-b051-833bca799d38",
   "metadata": {
    "deletable": false,
    "editable": false,
    "executionInfo": {
     "elapsed": 5,
     "status": "ok",
     "timestamp": 1695270005586,
     "user": {
      "displayName": "Darren Choo",
      "userId": "04652939558548281765"
     },
     "user_tz": -480
    },
    "id": "c50c1c87-c3ff-47b2-b051-833bca799d38",
    "nbgrader": {
     "cell_type": "code",
     "checksum": "74ae76c28374fc22d0d54dd664be5a4d",
     "grade": true,
     "grade_id": "correct_datasets_loaders2",
     "locked": true,
     "points": 1,
     "schema_version": 3,
     "solution": false,
     "task": false
    },
    "tags": []
   },
   "outputs": [],
   "source": []
  },
  {
   "cell_type": "markdown",
   "id": "648cceb4-adb2-4e4d-bcc5-6cb9f9e252c6",
   "metadata": {
    "deletable": false,
    "editable": false,
    "id": "648cceb4-adb2-4e4d-bcc5-6cb9f9e252c6",
    "nbgrader": {
     "cell_type": "markdown",
     "checksum": "18d61ee1922cd394e81ef773a74489eb",
     "grade": false,
     "grade_id": "a1_3_3",
     "locked": true,
     "schema_version": 3,
     "solution": false,
     "task": false
    },
    "tags": []
   },
   "source": [
    "2. Next, define the model, optimizer and loss function."
   ]
  },
  {
   "cell_type": "code",
   "execution_count": 5,
   "id": "6608f93a-891f-4bbf-b066-761b56b542df",
   "metadata": {
    "deletable": false,
    "executionInfo": {
     "elapsed": 5,
     "status": "ok",
     "timestamp": 1695270005586,
     "user": {
      "displayName": "Darren Choo",
      "userId": "04652939558548281765"
     },
     "user_tz": -480
    },
    "id": "6608f93a-891f-4bbf-b066-761b56b542df",
    "nbgrader": {
     "cell_type": "code",
     "checksum": "b3b057f96943875a86bf5e3bf1cbceb6",
     "grade": false,
     "grade_id": "model_optimizer",
     "locked": false,
     "schema_version": 3,
     "solution": true,
     "task": false
    },
    "tags": []
   },
   "outputs": [],
   "source": [
    "# YOUR CODE HERE\n",
    "no_features = 77\n",
    "no_hidden = 128\n",
    "no_labels = 2\n",
    "lr = 0.001\n",
    "\n",
    "model = MLP(no_features, no_hidden, no_labels)\n",
    "optimizer = torch.optim.Adam(model.parameters(), lr=lr)\n",
    "loss_fn = nn.CrossEntropyLoss() #can be used for binary classification too"
   ]
  },
  {
   "cell_type": "code",
   "execution_count": null,
   "id": "33a4488b-0db9-4710-a08b-508b06440e49",
   "metadata": {
    "deletable": false,
    "editable": false,
    "executionInfo": {
     "elapsed": 5,
     "status": "ok",
     "timestamp": 1695270005586,
     "user": {
      "displayName": "Darren Choo",
      "userId": "04652939558548281765"
     },
     "user_tz": -480
    },
    "id": "33a4488b-0db9-4710-a08b-508b06440e49",
    "nbgrader": {
     "cell_type": "code",
     "checksum": "bdd1ad303e792ab0dda5dc0f5da7f4aa",
     "grade": true,
     "grade_id": "correct_model_optimizer",
     "locked": true,
     "points": 1,
     "schema_version": 3,
     "solution": false,
     "task": false
    },
    "tags": []
   },
   "outputs": [],
   "source": []
  },
  {
   "cell_type": "code",
   "execution_count": null,
   "id": "94b1f0fc-fefe-410f-b6bc-00340688505b",
   "metadata": {
    "deletable": false,
    "editable": false,
    "executionInfo": {
     "elapsed": 6,
     "status": "ok",
     "timestamp": 1695270005914,
     "user": {
      "displayName": "Darren Choo",
      "userId": "04652939558548281765"
     },
     "user_tz": -480
    },
    "id": "94b1f0fc-fefe-410f-b6bc-00340688505b",
    "nbgrader": {
     "cell_type": "code",
     "checksum": "865e009af2828a7aa6d2503ff3c2f14e",
     "grade": true,
     "grade_id": "correct_model_optimizer2",
     "locked": true,
     "points": 1,
     "schema_version": 3,
     "solution": false,
     "task": false
    },
    "tags": []
   },
   "outputs": [],
   "source": []
  },
  {
   "cell_type": "code",
   "execution_count": null,
   "id": "0b0445ac-1139-40ac-b803-c67b3fa1d9c4",
   "metadata": {
    "deletable": false,
    "editable": false,
    "executionInfo": {
     "elapsed": 5,
     "status": "ok",
     "timestamp": 1695270005914,
     "user": {
      "displayName": "Darren Choo",
      "userId": "04652939558548281765"
     },
     "user_tz": -480
    },
    "id": "0b0445ac-1139-40ac-b803-c67b3fa1d9c4",
    "nbgrader": {
     "cell_type": "code",
     "checksum": "e3e8f1ffbea729b1e38b9921031433bf",
     "grade": true,
     "grade_id": "correct_loss_fn",
     "locked": true,
     "points": 1,
     "schema_version": 3,
     "solution": false,
     "task": false
    },
    "tags": []
   },
   "outputs": [],
   "source": []
  },
  {
   "cell_type": "markdown",
   "id": "20e178c6-bc5a-4932-9a0a-9a8ab5189c78",
   "metadata": {
    "deletable": false,
    "editable": false,
    "id": "20e178c6-bc5a-4932-9a0a-9a8ab5189c78",
    "nbgrader": {
     "cell_type": "markdown",
     "checksum": "7831e2b9dd6b053fce7ebc058a3c5574",
     "grade": false,
     "grade_id": "a1_3_5",
     "locked": true,
     "schema_version": 3,
     "solution": false,
     "task": false
    },
    "tags": []
   },
   "source": [
    "3. Train model for 100 epochs. Record down train and test accuracies. Implement early stopping."
   ]
  },
  {
   "cell_type": "code",
   "execution_count": 6,
   "id": "57924156-c046-4610-b4dd-cebeb683a6d5",
   "metadata": {
    "deletable": false,
    "executionInfo": {
     "elapsed": 5,
     "status": "ok",
     "timestamp": 1695270005914,
     "user": {
      "displayName": "Darren Choo",
      "userId": "04652939558548281765"
     },
     "user_tz": -480
    },
    "id": "57924156-c046-4610-b4dd-cebeb683a6d5",
    "nbgrader": {
     "cell_type": "code",
     "checksum": "94cfe370d3e2676874c81aa42b52b1e1",
     "grade": true,
     "grade_id": "training",
     "locked": false,
     "points": 4,
     "schema_version": 3,
     "solution": true,
     "task": false
    },
    "tags": []
   },
   "outputs": [
    {
     "name": "stdout",
     "output_type": "stream",
     "text": [
      "Epoch 1, train_loss 0.002696 train_acc 0.535845, test_loss 0.002839, test_acc 0.550580\n",
      "Done!\n",
      "Epoch 2, train_loss 0.002645 train_acc 0.577438, test_loss 0.002798, test_acc 0.576009\n",
      "Done!\n",
      "Epoch 3, train_loss 0.002599 train_acc 0.603508, test_loss 0.002784, test_acc 0.597568\n",
      "Done!\n",
      "Epoch 4, train_loss 0.002551 train_acc 0.622941, test_loss 0.002751, test_acc 0.602266\n",
      "Done!\n",
      "Epoch 5, train_loss 0.002509 train_acc 0.637516, test_loss 0.002754, test_acc 0.612493\n",
      "Done!\n",
      "Epoch 6, train_loss 0.002477 train_acc 0.648892, test_loss 0.002689, test_acc 0.621614\n",
      "Done!\n",
      "Epoch 7, train_loss 0.002439 train_acc 0.662401, test_loss 0.002709, test_acc 0.631841\n",
      "Done!\n",
      "Epoch 8, train_loss 0.002406 train_acc 0.672473, test_loss 0.002714, test_acc 0.630182\n",
      "Done!\n",
      "Epoch 9, train_loss 0.002373 train_acc 0.687404, test_loss 0.002636, test_acc 0.643173\n",
      "Done!\n",
      "Epoch 10, train_loss 0.002341 train_acc 0.692973, test_loss 0.002675, test_acc 0.632670\n",
      "Done!\n",
      "Epoch 11, train_loss 0.002295 train_acc 0.706837, test_loss 0.002638, test_acc 0.644279\n",
      "Done!\n",
      "Epoch 12, train_loss 0.002269 train_acc 0.714421, test_loss 0.002648, test_acc 0.641791\n",
      "Done!\n",
      "Epoch 13, train_loss 0.002256 train_acc 0.719280, test_loss 0.002589, test_acc 0.660310\n",
      "Done!\n",
      "Epoch 14, train_loss 0.002221 train_acc 0.729470, test_loss 0.002589, test_acc 0.657822\n",
      "Done!\n",
      "Epoch 15, train_loss 0.002201 train_acc 0.737647, test_loss 0.002572, test_acc 0.673577\n",
      "Done!\n",
      "Epoch 16, train_loss 0.002169 train_acc 0.747719, test_loss 0.002520, test_acc 0.676617\n",
      "Done!\n",
      "Epoch 17, train_loss 0.002166 train_acc 0.746060, test_loss 0.002500, test_acc 0.682974\n",
      "Done!\n",
      "Epoch 18, train_loss 0.002128 train_acc 0.756843, test_loss 0.002555, test_acc 0.678828\n",
      "Done!\n",
      "Epoch 19, train_loss 0.002116 train_acc 0.759806, test_loss 0.002556, test_acc 0.676617\n",
      "Done!\n",
      "Epoch 20, train_loss 0.002120 train_acc 0.759213, test_loss 0.002525, test_acc 0.677722\n",
      "Done!\n",
      "Epoch 21, train_loss 0.002088 train_acc 0.764427, test_loss 0.002522, test_acc 0.687396\n",
      "Done!\n",
      "Epoch 22, train_loss 0.002081 train_acc 0.771300, test_loss 0.002498, test_acc 0.687673\n",
      "Done!\n",
      "Epoch 23, train_loss 0.002049 train_acc 0.777343, test_loss 0.002488, test_acc 0.688778\n",
      "Done!\n",
      "Epoch 24, train_loss 0.002044 train_acc 0.782913, test_loss 0.002498, test_acc 0.694859\n",
      "Done!\n",
      "Epoch 25, train_loss 0.002017 train_acc 0.788482, test_loss 0.002471, test_acc 0.692371\n",
      "Done!\n",
      "Epoch 26, train_loss 0.002011 train_acc 0.787534, test_loss 0.002510, test_acc 0.691266\n",
      "Done!\n",
      "Epoch 27, train_loss 0.002009 train_acc 0.790260, test_loss 0.002430, test_acc 0.706191\n",
      "Done!\n",
      "Epoch 28, train_loss 0.001979 train_acc 0.799265, test_loss 0.002439, test_acc 0.699005\n",
      "Done!\n",
      "Epoch 29, train_loss 0.001968 train_acc 0.803531, test_loss 0.002461, test_acc 0.706191\n",
      "Done!\n",
      "Epoch 30, train_loss 0.001983 train_acc 0.794288, test_loss 0.002461, test_acc 0.699558\n",
      "Done!\n",
      "Epoch 31, train_loss 0.001949 train_acc 0.806138, test_loss 0.002475, test_acc 0.699281\n",
      "Done!\n",
      "Epoch 32, train_loss 0.001956 train_acc 0.804361, test_loss 0.002438, test_acc 0.703151\n",
      "Done!\n",
      "Epoch 33, train_loss 0.001966 train_acc 0.799739, test_loss 0.002444, test_acc 0.701216\n",
      "Done!\n",
      "Epoch 34, train_loss 0.001933 train_acc 0.807560, test_loss 0.002429, test_acc 0.707573\n",
      "Done!\n",
      "Epoch 35, train_loss 0.001910 train_acc 0.815025, test_loss 0.002440, test_acc 0.705915\n",
      "Done!\n",
      "Epoch 36, train_loss 0.001908 train_acc 0.817751, test_loss 0.002403, test_acc 0.708955\n",
      "Done!\n",
      "Epoch 37, train_loss 0.001889 train_acc 0.823913, test_loss 0.002438, test_acc 0.709784\n",
      "Done!\n",
      "Epoch 38, train_loss 0.001875 train_acc 0.829008, test_loss 0.002444, test_acc 0.702875\n",
      "Done!\n",
      "Epoch 39, train_loss 0.001889 train_acc 0.823083, test_loss 0.002415, test_acc 0.705638\n",
      "Done!\n",
      "Epoch 40, train_loss 0.001858 train_acc 0.832326, test_loss 0.002385, test_acc 0.718629\n",
      "Done!\n",
      "Epoch 41, train_loss 0.001865 train_acc 0.830904, test_loss 0.002458, test_acc 0.706468\n",
      "Done!\n",
      "Epoch 42, train_loss 0.001864 train_acc 0.829127, test_loss 0.002414, test_acc 0.710614\n",
      "Done!\n",
      "Epoch 43, train_loss 0.001856 train_acc 0.832800, test_loss 0.002433, test_acc 0.707020\n",
      "Done!\n",
      "Epoch 44, train_loss 0.001842 train_acc 0.838369, test_loss 0.002416, test_acc 0.710337\n",
      "Done!\n",
      "Epoch 45, train_loss 0.001856 train_acc 0.831023, test_loss 0.002403, test_acc 0.715589\n",
      "Done!\n",
      "Epoch 46, train_loss 0.001835 train_acc 0.837658, test_loss 0.002399, test_acc 0.715312\n",
      "Done!\n",
      "Epoch 47, train_loss 0.001829 train_acc 0.838606, test_loss 0.002406, test_acc 0.715312\n",
      "Done!\n",
      "Epoch 48, train_loss 0.001827 train_acc 0.840976, test_loss 0.002437, test_acc 0.711166\n",
      "Done!\n",
      "Epoch 49, train_loss 0.001824 train_acc 0.840976, test_loss 0.002385, test_acc 0.713101\n",
      "Done!\n",
      "Epoch 50, train_loss 0.001819 train_acc 0.841213, test_loss 0.002421, test_acc 0.720840\n",
      "Done!\n",
      "Epoch 51, train_loss 0.001816 train_acc 0.841806, test_loss 0.002420, test_acc 0.715036\n",
      "Done!\n",
      "Epoch 52, train_loss 0.001796 train_acc 0.848442, test_loss 0.002400, test_acc 0.714760\n",
      "Done!\n",
      "Epoch 53, train_loss 0.001819 train_acc 0.839791, test_loss 0.002381, test_acc 0.719735\n",
      "Done!\n",
      "Epoch 54, train_loss 0.001823 train_acc 0.839554, test_loss 0.002392, test_acc 0.722222\n",
      "Done!\n",
      "Epoch 55, train_loss 0.001794 train_acc 0.848323, test_loss 0.002382, test_acc 0.722499\n",
      "Done!\n",
      "Epoch 56, train_loss 0.001751 train_acc 0.860884, test_loss 0.002379, test_acc 0.716142\n",
      "Done!\n",
      "Epoch 57, train_loss 0.001786 train_acc 0.850812, test_loss 0.002417, test_acc 0.710337\n",
      "Done!\n",
      "Epoch 58, train_loss 0.001780 train_acc 0.849745, test_loss 0.002373, test_acc 0.716971\n",
      "Done!\n",
      "Epoch 59, train_loss 0.001789 train_acc 0.849745, test_loss 0.002362, test_acc 0.725263\n",
      "Done!\n",
      "Epoch 60, train_loss 0.001769 train_acc 0.857803, test_loss 0.002352, test_acc 0.721669\n",
      "Done!\n",
      "Epoch 61, train_loss 0.001751 train_acc 0.861002, test_loss 0.002396, test_acc 0.716142\n",
      "Done!\n",
      "Epoch 62, train_loss 0.001752 train_acc 0.859818, test_loss 0.002358, test_acc 0.737148\n",
      "Done!\n",
      "Epoch 63, train_loss 0.001758 train_acc 0.858751, test_loss 0.002380, test_acc 0.723881\n",
      "Done!\n",
      "Epoch 64, train_loss 0.001750 train_acc 0.862424, test_loss 0.002345, test_acc 0.739635\n",
      "Done!\n",
      "Epoch 65, train_loss 0.001749 train_acc 0.860292, test_loss 0.002366, test_acc 0.730514\n",
      "Done!\n",
      "Epoch 66, train_loss 0.001746 train_acc 0.861595, test_loss 0.002390, test_acc 0.730790\n",
      "Done!\n",
      "Epoch 67, train_loss 0.001732 train_acc 0.866927, test_loss 0.002358, test_acc 0.733831\n",
      "Done!\n",
      "Epoch 68, train_loss 0.001734 train_acc 0.865505, test_loss 0.002354, test_acc 0.727474\n",
      "Done!\n",
      "Epoch 69, train_loss 0.001725 train_acc 0.867638, test_loss 0.002362, test_acc 0.722222\n",
      "Done!\n",
      "Epoch 70, train_loss 0.001713 train_acc 0.870364, test_loss 0.002375, test_acc 0.725263\n",
      "Done!\n",
      "Epoch 71, train_loss 0.001724 train_acc 0.866690, test_loss 0.002414, test_acc 0.722775\n",
      "Done!\n",
      "Epoch 72, train_loss 0.001706 train_acc 0.871667, test_loss 0.002452, test_acc 0.710061\n",
      "Done!\n",
      "Epoch 73, train_loss 0.001725 train_acc 0.866572, test_loss 0.002371, test_acc 0.723881\n",
      "Done!\n",
      "Epoch 74, train_loss 0.001721 train_acc 0.866809, test_loss 0.002363, test_acc 0.730790\n",
      "Done!\n",
      "Epoch 75, train_loss 0.001720 train_acc 0.869534, test_loss 0.002373, test_acc 0.732449\n",
      "Done!\n",
      "Epoch 76, train_loss 0.001699 train_acc 0.874037, test_loss 0.002362, test_acc 0.731620\n",
      "Done!\n",
      "Epoch 77, train_loss 0.001716 train_acc 0.869534, test_loss 0.002365, test_acc 0.725815\n",
      "Done!\n",
      "Epoch 78, train_loss 0.001715 train_acc 0.869297, test_loss 0.002439, test_acc 0.723881\n",
      "Done!\n",
      "Early stopped!\n"
     ]
    }
   ],
   "source": [
    "# YOUR CODE HERE\n",
    "\n",
    "#implementing early stopper\n",
    "from common_utils import EarlyStopper\n",
    "early_stopper = EarlyStopper(min_delta=0.00005)\n",
    "\n",
    "\n",
    "\n",
    "#implementing train loop\n",
    "def train_loop(dataloader, model, loss_fn, optimizer):\n",
    "    size = len(dataloader.dataset)\n",
    "    num_batches = len(dataloader)\n",
    "    train_loss, correct = 0, 0\n",
    "    for batch, (X, y) in enumerate(dataloader):\n",
    "        # Compute prediction and loss\n",
    "        pred = model(X)\n",
    "        y_long = y.type(torch.LongTensor)\n",
    "        loss = loss_fn(pred, y_long)\n",
    "\n",
    "        # Backpropagation\n",
    "        optimizer.zero_grad()  #initialize gradient calculations\n",
    "        loss.backward()  #compute gradients\n",
    "        optimizer.step()  #take one step of SGD\n",
    "\n",
    "        train_loss += loss.item()\n",
    "        correct += (pred.argmax(1) == y).type(torch.float).sum().item()\n",
    "\n",
    "    train_loss /= size\n",
    "    correct /= size\n",
    "    return train_loss, correct\n",
    "\n",
    "\n",
    "#implementing test loop\n",
    "def test_loop(dataloader, model, loss_fn):\n",
    "    size = len(dataloader.dataset)\n",
    "    num_batches = len(dataloader)\n",
    "    test_loss, correct = 0, 0\n",
    "\n",
    "    with torch.no_grad():\n",
    "        for X, y in dataloader:\n",
    "            pred = model(X)\n",
    "            y_long = y.type(torch.LongTensor)\n",
    "            test_loss += loss_fn(pred, y_long).item()\n",
    "            correct += (pred.argmax(1) == y).type(torch.float).sum().item()\n",
    "\n",
    "    test_loss /= size\n",
    "    correct /= size\n",
    "\n",
    "    return test_loss, correct\n",
    "\n",
    "\n",
    "\n",
    "\n",
    "no_epochs = 100\n",
    "train_loss_, train_acc_, test_loss_, test_acc_ = [], [], [], []\n",
    "early_stopper_bool = False\n",
    "\n",
    "\n",
    "for epoch in range(no_epochs):\n",
    "    train_loss, train_acc = train_loop(train_dataloader, model, loss_fn, optimizer)\n",
    "    test_loss, test_acc = test_loop(test_dataloader, model, loss_fn)\n",
    "\n",
    "    train_loss_.append(train_loss)\n",
    "    train_acc_.append(train_acc)\n",
    "\n",
    "    test_loss_.append(test_loss)\n",
    "    test_acc_.append(test_acc)\n",
    "\n",
    "    print(f\"Epoch {epoch+1}, train_loss {train_loss:>7f} train_acc {train_acc:>4f}, test_loss {test_loss:>7f}, test_acc {test_acc:>4f}\")\n",
    "    print(\"Done!\")\n",
    "\n",
    "    #early stopper used on test_loss\n",
    "    early_stopper_bool = early_stopper.early_stop(test_loss)\n",
    "    if early_stopper_bool:\n",
    "        print(\"Early stopped!\")\n",
    "        break\n"
   ]
  },
  {
   "cell_type": "markdown",
   "id": "5deafd80-4525-4bff-8a5f-dfee0bfede04",
   "metadata": {
    "deletable": false,
    "editable": false,
    "id": "5deafd80-4525-4bff-8a5f-dfee0bfede04",
    "nbgrader": {
     "cell_type": "markdown",
     "checksum": "4f0d29724a79a38566c9153287e31469",
     "grade": false,
     "grade_id": "a1_4",
     "locked": true,
     "schema_version": 3,
     "solution": false,
     "task": false
    },
    "tags": []
   },
   "source": [
    "#### Plot train and test accuracies and losses on training and test data against training epochs and comment on the line plots.\n"
   ]
  },
  {
   "cell_type": "code",
   "execution_count": 7,
   "id": "b25bf720-a4e3-4e70-b90c-456180f18dcf",
   "metadata": {
    "colab": {
     "base_uri": "https://localhost:8080/",
     "height": 466
    },
    "deletable": false,
    "executionInfo": {
     "elapsed": 436,
     "status": "ok",
     "timestamp": 1695270009560,
     "user": {
      "displayName": "Darren Choo",
      "userId": "04652939558548281765"
     },
     "user_tz": -480
    },
    "id": "b25bf720-a4e3-4e70-b90c-456180f18dcf",
    "nbgrader": {
     "cell_type": "code",
     "checksum": "c9ce6934b35dea460dcc15bb9a6dedf4",
     "grade": true,
     "grade_id": "plot",
     "locked": false,
     "points": 0,
     "schema_version": 3,
     "solution": true,
     "task": false
    },
    "outputId": "c5484b17-f77d-4e4f-9cfc-c702729d7da9",
    "scrolled": false,
    "tags": []
   },
   "outputs": [
    {
     "data": {
      "text/plain": [
       "<matplotlib.legend.Legend at 0x25d069d5d90>"
      ]
     },
     "execution_count": 7,
     "metadata": {},
     "output_type": "execute_result"
    },
    {
     "data": {
      "image/png": "[encoded data removed]",
      "text/plain": [
       "<Figure size 432x288 with 1 Axes>"
      ]
     },
     "metadata": {
      "needs_background": "light"
     },
     "output_type": "display_data"
    },
    {
     "data": {
      "image/png": "[encoded data removed]",
      "text/plain": [
       "<Figure size 432x288 with 1 Axes>"
      ]
     },
     "metadata": {
      "needs_background": "light"
     },
     "output_type": "display_data"
    }
   ],
   "source": [
    "# YOUR CODE HERE\n",
    "# plot learning curves\n",
    "plt.figure(1)\n",
    "plt.plot(range(len(train_loss_)), train_loss_, label='train')\n",
    "plt.plot(range(len(test_loss_)), test_loss_, label = \"test\")\n",
    "plt.xlabel('epochs')\n",
    "plt.ylabel('cross-entropy')\n",
    "plt.legend()\n",
    "\n",
    "plt.figure(2)\n",
    "plt.plot(range(len(train_acc_)), train_acc_, label='train')\n",
    "plt.plot(range(len(test_acc_)), test_acc_, label='test')\n",
    "plt.xlabel('epochs')\n",
    "plt.ylabel('classification accuracy')\n",
    "plt.legend()"
   ]
  },
  {
   "cell_type": "markdown",
   "id": "3307014b-6a6c-406e-a139-94acc919f5f4",
   "metadata": {
    "deletable": false,
    "editable": false,
    "id": "3307014b-6a6c-406e-a139-94acc919f5f4",
    "nbgrader": {
     "cell_type": "markdown",
     "checksum": "0973f053aaa2d1bde7a2261c1d8cd9c4",
     "grade": false,
     "grade_id": "a1_4_2",
     "locked": true,
     "schema_version": 3,
     "solution": false,
     "task": false
    },
    "tags": []
   },
   "source": [
    "2. Comment on line plots."
   ]
  },
  {
   "cell_type": "code",
   "execution_count": 8,
   "id": "b71af7e2-6ed7-4457-940a-df915d349ee0",
   "metadata": {
    "deletable": false,
    "executionInfo": {
     "elapsed": 3,
     "status": "ok",
     "timestamp": 1695270010162,
     "user": {
      "displayName": "Darren Choo",
      "userId": "04652939558548281765"
     },
     "user_tz": -480
    },
    "id": "b71af7e2-6ed7-4457-940a-df915d349ee0",
    "nbgrader": {
     "cell_type": "code",
     "checksum": "d2a6f6433369930987c9e7342cb667b0",
     "grade": false,
     "grade_id": "comment_plots",
     "locked": false,
     "schema_version": 3,
     "solution": true,
     "task": false
    },
    "tags": []
   },
   "outputs": [],
   "source": [
    "# YOUR CODE HERE\n",
    "answer = \"For Classification Accuracy against Epoch, we notice that training accuracy is increasing while test accuracy\\\n",
    "is plateauing. This suggest that the model is overfitting to the training data and is unable to generalise for the unseen\\\n",
    "test data. The model might be too complex with 3 hidden layers, each with 128 neurons, and is thus learning very intricate\\\n",
    "features in the training data. This can help the model to perform well in training, but it starts to fall off in testing.\\\n",
    "Similarly, for Loss against Epoch, we notice the same pattern whereby training loss continues to fall while test loss is\\\n",
    "plateauing. This can be explained with the same reasoning.\""
   ]
  },
  {
   "cell_type": "code",
   "execution_count": null,
   "id": "6219db24-33e9-4fbc-880c-218cd7503482",
   "metadata": {
    "deletable": false,
    "editable": false,
    "executionInfo": {
     "elapsed": 3,
     "status": "ok",
     "timestamp": 1695270010162,
     "user": {
      "displayName": "Darren Choo",
      "userId": "04652939558548281765"
     },
     "user_tz": -480
    },
    "id": "6219db24-33e9-4fbc-880c-218cd7503482",
    "nbgrader": {
     "cell_type": "code",
     "checksum": "309410e29156bb4709bef54f79a15acc",
     "grade": true,
     "grade_id": "correct_comment_plots",
     "locked": true,
     "points": 1,
     "schema_version": 3,
     "solution": false,
     "task": false
    },
    "tags": []
   },
   "outputs": [],
   "source": []
  }
 ],
 "metadata": {
  "colab": {
   "provenance": []
  },
  "kernelspec": {
   "display_name": "Python 3 (ipykernel)",
   "language": "python",
   "name": "python3"
  },
  "language_info": {
   "codemirror_mode": {
    "name": "ipython",
    "version": 3
   },
   "file_extension": ".py",
   "mimetype": "text/x-python",
   "name": "python",
   "nbconvert_exporter": "python",
   "pygments_lexer": "ipython3",
   "version": "3.9.12"
  }
 },
 "nbformat": 4,
 "nbformat_minor": 5
}
