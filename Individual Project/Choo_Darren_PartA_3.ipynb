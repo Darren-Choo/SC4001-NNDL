{
 "cells": [
  {
   "cell_type": "markdown",
   "id": "c5cb62ac-8e88-43e6-bce9-da20fabf38ff",
   "metadata": {
    "deletable": false,
    "editable": false,
    "id": "c5cb62ac-8e88-43e6-bce9-da20fabf38ff",
    "nbgrader": {
     "cell_type": "markdown",
     "checksum": "7e726e0bc51bda6101498fa65e298d55",
     "grade": false,
     "grade_id": "cell-a5df181492bc4d5b",
     "locked": true,
     "schema_version": 3,
     "solution": false,
     "task": false
    }
   },
   "source": [
    "# Question A3"
   ]
  },
  {
   "cell_type": "markdown",
   "id": "5c8f824c",
   "metadata": {
    "deletable": false,
    "editable": false,
    "id": "5c8f824c",
    "nbgrader": {
     "cell_type": "markdown",
     "checksum": "8de5fc7baf0dbbe0ae44ff5e2f33d3e2",
     "grade": false,
     "grade_id": "cell-742f6ec36e67f66e",
     "locked": true,
     "schema_version": 3,
     "solution": false,
     "task": false
    }
   },
   "source": [
    "Find the optimal number of hidden neurons for first hidden layer of the 4-layer network (3 hidden layers, output layer) designed in Question 1 and 2"
   ]
  },
  {
   "cell_type": "markdown",
   "id": "fb9411ad-2324-400e-852e-ff5c0ca716f0",
   "metadata": {
    "deletable": false,
    "editable": false,
    "id": "fb9411ad-2324-400e-852e-ff5c0ca716f0",
    "nbgrader": {
     "cell_type": "markdown",
     "checksum": "c699e75b7edb52e94f6605279070c695",
     "grade": false,
     "grade_id": "cell-e96803fd0366edd9",
     "locked": true,
     "schema_version": 3,
     "solution": false,
     "task": false
    },
    "tags": []
   },
   "source": [
    "#### Plot the mean cross-validation accuracies on the final epoch for different numbers of hidden-layer neurons using a scatter plot. Limit the search space of the number of neurons to {64, 128, 256}. Continue using 5-fold cross validation on training dataset. Select the optimal number of neurons for the hidden layer. State the rationale for your selection.\n",
    "\n",
    "This might take a while to run, approximately 20 - 30 min, so plan your time carefully."
   ]
  },
  {
   "cell_type": "markdown",
   "id": "981c85ca-9a14-4d0a-b44d-814f02c0f8e1",
   "metadata": {
    "deletable": false,
    "editable": false,
    "id": "981c85ca-9a14-4d0a-b44d-814f02c0f8e1",
    "nbgrader": {
     "cell_type": "markdown",
     "checksum": "227f476ef461a471ef38af7d3f6715f8",
     "grade": false,
     "grade_id": "cell-808458412f82c806",
     "locked": true,
     "schema_version": 3,
     "solution": false,
     "task": false
    }
   },
   "source": [
    "1. Firstly, we import relevant libraries."
   ]
  },
  {
   "cell_type": "code",
   "execution_count": 1,
   "id": "b0edc610-21e6-4cc7-9603-59318b961990",
   "metadata": {
    "deletable": false,
    "editable": false,
    "id": "b0edc610-21e6-4cc7-9603-59318b961990",
    "nbgrader": {
     "cell_type": "code",
     "checksum": "04b3385379104c8466a67ea59116fe58",
     "grade": false,
     "grade_id": "cell-03d073049be6df79",
     "locked": true,
     "schema_version": 3,
     "solution": false,
     "task": false
    },
    "tags": []
   },
   "outputs": [],
   "source": [
    "import tqdm\n",
    "import time\n",
    "import random\n",
    "import numpy as np\n",
    "import pandas as pd\n",
    "import matplotlib.pyplot as plt\n",
    "\n",
    "import torch\n",
    "from torch import nn\n",
    "from torch.utils.data import Dataset\n",
    "from torch.utils.data import DataLoader\n",
    "\n",
    "from scipy.io import wavfile as wav\n",
    "\n",
    "from sklearn import preprocessing\n",
    "from sklearn.model_selection import KFold\n",
    "from sklearn.model_selection import train_test_split\n",
    "from sklearn.metrics import f1_score, precision_score, recall_score, confusion_matrix\n",
    "from common_utils import set_seed\n",
    "\n",
    "# setting seed\n",
    "set_seed()"
   ]
  },
  {
   "cell_type": "markdown",
   "id": "e8e12861-4713-4914-9f4b-8a7381708243",
   "metadata": {
    "deletable": false,
    "editable": false,
    "id": "e8e12861-4713-4914-9f4b-8a7381708243",
    "nbgrader": {
     "cell_type": "markdown",
     "checksum": "1203c0efa2d363ccc72779a7511ed5b5",
     "grade": false,
     "grade_id": "cell-647b74152d4edf45",
     "locked": true,
     "schema_version": 3,
     "solution": false,
     "task": false
    }
   },
   "source": [
    "2. To reduce repeated code, place your\n",
    "\n",
    "- network (MLP defined in QA1)\n",
    "- torch datasets (CustomDataset defined in QA1)\n",
    "- loss function (loss_fn defined in QA1)\n",
    "\n",
    "in a separate file called **common_utils.py**\n",
    "\n",
    "Import them into this file. You will not be repenalised for any error in QA1 here as the code in QA1 will not be remarked.\n",
    "\n",
    "The following code cell will not be marked."
   ]
  },
  {
   "cell_type": "code",
   "execution_count": 2,
   "id": "37a1a982-de85-46de-b890-3b81f79f5887",
   "metadata": {
    "deletable": false,
    "id": "37a1a982-de85-46de-b890-3b81f79f5887",
    "nbgrader": {
     "cell_type": "code",
     "checksum": "52ed938922eb6062a33a7d047d8fc605",
     "grade": false,
     "grade_id": "import",
     "locked": false,
     "schema_version": 3,
     "solution": true,
     "task": false
    },
    "tags": []
   },
   "outputs": [],
   "source": [
    "# YOUR CODE HERE\n",
    "from common_utils import CustomDataset, loss_fn, split_dataset, preprocess_dataset, EarlyStopper"
   ]
  },
  {
   "cell_type": "code",
   "execution_count": null,
   "id": "88f0e215-033b-4720-89f8-64f96574ebe2",
   "metadata": {
    "deletable": false,
    "editable": false,
    "id": "88f0e215-033b-4720-89f8-64f96574ebe2",
    "nbgrader": {
     "cell_type": "code",
     "checksum": "ae6b33318200b4bc38d431576963edb1",
     "grade": true,
     "grade_id": "correct_import",
     "locked": true,
     "points": 0,
     "schema_version": 3,
     "solution": false,
     "task": false
    },
    "tags": []
   },
   "outputs": [],
   "source": []
  },
  {
   "cell_type": "markdown",
   "id": "558aa470-6d7e-454c-9cda-9ad881d58c53",
   "metadata": {
    "deletable": false,
    "editable": false,
    "id": "558aa470-6d7e-454c-9cda-9ad881d58c53",
    "nbgrader": {
     "cell_type": "markdown",
     "checksum": "79004bd568c9f48abd1cf359cd050ab5",
     "grade": false,
     "grade_id": "cell-10b7165b0a25758f",
     "locked": true,
     "schema_version": 3,
     "solution": false,
     "task": false
    }
   },
   "source": [
    "3. Perform hyperparameter tuning for the different neurons with 5-fold cross validation."
   ]
  },
  {
   "cell_type": "code",
   "execution_count": 3,
   "id": "8c77bd18-c546-473e-8c2f-643b4281d9ba",
   "metadata": {
    "deletable": false,
    "id": "8c77bd18-c546-473e-8c2f-643b4281d9ba",
    "nbgrader": {
     "cell_type": "code",
     "checksum": "c610a779f6858f6c77f3fc6beb198dcd",
     "grade": true,
     "grade_id": "train",
     "locked": false,
     "points": 2,
     "schema_version": 3,
     "solution": true,
     "task": false
    },
    "tags": []
   },
   "outputs": [],
   "source": [
    "#MLP model\n",
    "class MLP(nn.Module):\n",
    "    def __init__(self, no_features, no_hidden, no_labels):\n",
    "        super().__init__()\n",
    "        self.mlp_stack = nn.Sequential(\n",
    "            # YOUR CODE HERE\n",
    "            nn.Linear(no_features, no_hidden),  #first hidden layer\n",
    "            nn.ReLU(),\n",
    "            nn.Dropout(0.2),\n",
    "            \n",
    "            nn.Linear(no_hidden, 128),  #second hidden layer\n",
    "            nn.ReLU(),\n",
    "            nn.Dropout(0.2),\n",
    "            \n",
    "            nn.Linear(128, 128),  #third hidden layer\n",
    "            nn.ReLU(),\n",
    "            nn.Dropout(0.2),\n",
    "            \n",
    "            nn.Linear(128, no_labels),  #output layer\n",
    "            nn.Sigmoid()\n",
    "        )\n",
    "\n",
    "    # YOUR CODE HERE\n",
    "    def forward(self, x):\n",
    "        logits = self.mlp_stack(x)\n",
    "        return logits\n",
    "\n",
    "\n",
    "    \n",
    "    \n",
    "    \n",
    "\n",
    "    \n",
    "#implementing train loop\n",
    "def train_loop(dataloader, model, loss_fn, optimizer):\n",
    "    size = len(dataloader.dataset)\n",
    "    num_batches = len(dataloader)\n",
    "    train_loss, correct = 0, 0\n",
    "    for batch, (X, y) in enumerate(dataloader):\n",
    "        # Compute prediction and loss\n",
    "        pred = model(X)\n",
    "        y_long = y.type(torch.LongTensor)\n",
    "        loss = loss_fn(pred, y_long)\n",
    "\n",
    "        # Backpropagation\n",
    "        optimizer.zero_grad()  #initialize gradient calculations\n",
    "        loss.backward()  #compute gradients\n",
    "        optimizer.step()  #take one step of SGD\n",
    "\n",
    "        train_loss += loss.item()\n",
    "        correct += (pred.argmax(1) == y).type(torch.float).sum().item()\n",
    "\n",
    "    train_loss /= size\n",
    "    correct /= size\n",
    "    return train_loss, correct\n",
    "\n",
    "\n",
    "\n",
    "\n",
    "#implementing test loop\n",
    "def test_loop(dataloader, model, loss_fn):\n",
    "    size = len(dataloader.dataset)\n",
    "    num_batches = len(dataloader)\n",
    "    test_loss, correct = 0, 0\n",
    "\n",
    "    with torch.no_grad():\n",
    "        for X, y in dataloader:\n",
    "            pred = model(X)\n",
    "            y_long = y.type(torch.LongTensor)\n",
    "            test_loss += loss_fn(pred, y_long).item()\n",
    "            correct += (pred.argmax(1) == y).type(torch.float).sum().item()\n",
    "\n",
    "    test_loss /= size\n",
    "    correct /= size\n",
    "\n",
    "    return test_loss, correct\n",
    "\n",
    "\n",
    "\n",
    "\n",
    "\n",
    "\n",
    "def train(model, X_train_scaled, y_train2, X_val_scaled, y_val2, batch_size):\n",
    "    \n",
    "    \n",
    "    # YOUR CODE HERE\n",
    "    \n",
    "    train_accuracies, train_losses, test_accuracies, test_losses, times = [],[],[],[],[]\n",
    "    \n",
    "    lr = 0.001\n",
    "    no_epochs = 100\n",
    "    \n",
    "    \n",
    "    #initialising dataloader\n",
    "    train_data = CustomDataset(X_train_scaled, y_train2)\n",
    "    test_data = CustomDataset(X_val_scaled, y_val2)\n",
    "\n",
    "    train_dataloader = DataLoader(train_data, batch_size=batch_size, shuffle=True)\n",
    "    test_dataloader = DataLoader(test_data, batch_size=batch_size, shuffle=True)\n",
    "    \n",
    "    \n",
    "    #initialising loss_fn\n",
    "    loss_fn = torch.nn.CrossEntropyLoss()\n",
    "    \n",
    "    \n",
    "    #initialising optimizer\n",
    "    optimizer = torch.optim.Adam(model.parameters(), lr=lr)\n",
    "    \n",
    "        \n",
    "    \n",
    "    #initialising early stopper for each fold before we begin training\n",
    "    early_stopper = EarlyStopper(min_delta = 0.00005) #min_delta = 0.00005\n",
    "    early_stopper_bool = False\n",
    "    \n",
    "    \n",
    "    #begin training\n",
    "    for epoch in range(no_epochs):\n",
    "        t = 0\n",
    "\n",
    "        #start time\n",
    "        start_time = time.time()\n",
    "\n",
    "        #obtain acc and loss\n",
    "        train_loss, train_accuracy = train_loop(train_dataloader, model, loss_fn, optimizer)\n",
    "        test_loss, test_accuracy = test_loop(test_dataloader, model, loss_fn)\n",
    "        \n",
    "        t += time.time() - start_time\n",
    "        \n",
    "        train_accuracies.append(train_accuracy)\n",
    "        train_losses.append(train_loss)\n",
    "        test_accuracies.append(test_accuracy)\n",
    "        test_losses.append(test_loss)\n",
    "        times.append(t)\n",
    "        \n",
    "\n",
    "        #early stopper used on val_loss\n",
    "        early_stopper_bool = early_stopper.early_stop(test_loss)\n",
    "        if early_stopper_bool:\n",
    "            print(f\"Early stopped at {epoch+1}!\")  \n",
    "            break\n",
    "\n",
    "    \n",
    "    \n",
    "    \n",
    "    \n",
    "    return train_accuracies, train_losses, test_accuracies, test_losses, times"
   ]
  },
  {
   "cell_type": "code",
   "execution_count": 4,
   "id": "d13d1ff1-7242-4c3f-bcf2-c92fe0c723db",
   "metadata": {
    "deletable": false,
    "id": "d13d1ff1-7242-4c3f-bcf2-c92fe0c723db",
    "nbgrader": {
     "cell_type": "code",
     "checksum": "ec4e70e2dfdc84af8c83bc858117af1f",
     "grade": true,
     "grade_id": "hyperparameter_tuning",
     "locked": false,
     "points": 2,
     "schema_version": 3,
     "solution": true,
     "task": false
    },
    "scrolled": false,
    "tags": []
   },
   "outputs": [
    {
     "name": "stdout",
     "output_type": "stream",
     "text": [
      "num_neurons: 64\n",
      "Fold:  1\n",
      "Last epoch accuracy value:  0.681872037914692\n",
      "Last epoch time taken:  0.12426185607910156\n",
      "Fold:  2\n",
      "Last epoch accuracy value:  0.7020142180094787\n",
      "Last epoch time taken:  0.11409497261047363\n",
      "Fold:  3\n",
      "Last epoch accuracy value:  0.6860189573459715\n",
      "Last epoch time taken:  0.10391902923583984\n",
      "Fold:  4\n",
      "Last epoch accuracy value:  0.6812796208530806\n",
      "Last epoch time taken:  0.1219947338104248\n",
      "Fold:  5\n",
      "Last epoch accuracy value:  0.6965026674570243\n",
      "Last epoch time taken:  0.23262476921081543\n",
      "\n",
      "Mean CV accuracy for neuron size 64: 0.6895375003160493\n",
      "\n",
      "Mean time taken to train network on last epoch for neuron size 64: 0.13937907218933104\n",
      "\n",
      "----------------------------------------\n",
      "num_neurons: 128\n",
      "Fold:  1\n",
      "Last epoch accuracy value:  0.7203791469194313\n",
      "Last epoch time taken:  0.09728789329528809\n",
      "Fold:  2\n",
      "Last epoch accuracy value:  0.7043838862559242\n",
      "Last epoch time taken:  0.0960533618927002\n",
      "Fold:  3\n",
      "Last epoch accuracy value:  0.7014218009478673\n",
      "Last epoch time taken:  0.11600327491760254\n",
      "Fold:  4\n",
      "Last epoch accuracy value:  0.7002369668246445\n",
      "Last epoch time taken:  0.1265420913696289\n",
      "Fold:  5\n",
      "Last epoch accuracy value:  0.7024303497332542\n",
      "Last epoch time taken:  0.11994075775146484\n",
      "\n",
      "Mean CV accuracy for neuron size 128: 0.7057704301362243\n",
      "\n",
      "Mean time taken to train network on last epoch for neuron size 128: 0.11116547584533691\n",
      "\n",
      "----------------------------------------\n",
      "num_neurons: 256\n",
      "Fold:  1\n",
      "Last epoch accuracy value:  0.7085308056872038\n",
      "Last epoch time taken:  0.13103675842285156\n",
      "Fold:  2\n",
      "Last epoch accuracy value:  0.7369668246445498\n",
      "Last epoch time taken:  0.24224233627319336\n",
      "Fold:  3\n",
      "Last epoch accuracy value:  0.7215639810426541\n",
      "Last epoch time taken:  0.1589822769165039\n",
      "Fold:  4\n",
      "Last epoch accuracy value:  0.7393364928909952\n",
      "Last epoch time taken:  0.18720030784606934\n",
      "Fold:  5\n",
      "Last epoch accuracy value:  0.7237700059276823\n",
      "Last epoch time taken:  0.16019392013549805\n",
      "\n",
      "Mean CV accuracy for neuron size 256: 0.726033622038617\n",
      "\n",
      "Mean time taken to train network on last epoch for neuron size 256: 0.17593111991882324\n",
      "\n",
      "----------------------------------------\n"
     ]
    }
   ],
   "source": [
    "#using the same settings as our model in A1\n",
    "no_features = 77\n",
    "no_labels = 2\n",
    "\n",
    "def find_optimal_hyperparameter(X_train, y_train, parameters, mode, batch_size):\n",
    "\n",
    "    # YOUR CODE HERE\n",
    "    \n",
    "    fold = [0,1,2,3,4] #index for our 5-folds\n",
    "    \n",
    "    cross_validation_accuracies, cross_validation_times = [], []\n",
    "    \n",
    "    \n",
    "    #Initialising our dictionaries for data\n",
    "    X_train_scaled_dict, X_val_scaled_dict, y_train_dict, y_val_dict = {},{},{},{}  #creating our dictionaries to return\n",
    "    \n",
    "    \n",
    "    #fixing the kfold random_states for each neuron number\n",
    "    cv = KFold(n_splits = 5, shuffle=False) \n",
    "    \n",
    "    #filling up our dictionaries\n",
    "    for neurons in parameters: \n",
    "        \n",
    "        #initialising the values of the keys (neurons) in the dictionary as lists\n",
    "        X_train_scaled_dict[neurons] = []\n",
    "        X_val_scaled_dict[neurons] = []\n",
    "        y_train_dict[neurons] = []\n",
    "        y_val_dict[neurons] = []\n",
    "        \n",
    "    \n",
    "\n",
    "        for train_idx, val_idx in cv.split(X_train, y_train):\n",
    "            x_train_fold, y_train_fold  = X_train[train_idx], y_train[train_idx]\n",
    "            x_val_fold, y_val_fold = X_train[val_idx], y_train[val_idx]\n",
    "            \n",
    "            #scaling X values using preprocess_dataset() function is common_utils\n",
    "            x_train_scaled_fold, x_val_scaled_fold = preprocess_dataset(x_train_fold, x_val_fold)\n",
    "    \n",
    "            X_train_scaled_dict[neurons].append(x_train_scaled_fold)\n",
    "            X_val_scaled_dict[neurons].append(x_val_scaled_fold)\n",
    "            y_train_dict[neurons].append(y_train_fold)\n",
    "            y_val_dict[neurons].append(y_val_fold)\n",
    "    \n",
    "    #now that our dictionary has been made, we can commence training\n",
    "    \n",
    "    for neurons in parameters:\n",
    "        print(f\"{mode}: {neurons}\")\n",
    "        \n",
    "        \n",
    "        foldTimes = [] #list to store the 5 last epoch times of 5 folds\n",
    "        foldAcc = [] #list to store the 5 last epoch acc values of 5 folds\n",
    "        \n",
    "        #looping through folds\n",
    "        for idx in fold:\n",
    "            print(\"Fold: \", idx+1)\n",
    "            \n",
    "            \n",
    "            model = MLP(no_features, neurons, no_labels)\n",
    "            train_accuracies, train_losses, test_accuracies, test_losses, times = train(model, X_train_scaled_dict[neurons][idx], y_train_dict[neurons][idx], X_val_scaled_dict[neurons][idx], y_val_dict[neurons][idx], batch_size)\n",
    "            \n",
    "            \n",
    "            lastEpochAcc = test_accuracies[-1]\n",
    "            lastEpochTime = times[-1]\n",
    "            \n",
    "            #printing last epoch acc and time taken for observation\n",
    "            print(\"Last epoch accuracy value: \", lastEpochAcc)\n",
    "            print(\"Last epoch time taken: \", lastEpochTime)\n",
    "            \n",
    "            \n",
    "            foldTimes.append(lastEpochTime)\n",
    "            foldAcc.append(lastEpochAcc)\n",
    "        \n",
    "    \n",
    "        \n",
    "        ##printing mean last epoch acc and time taken for observation\n",
    "        meanAcc = np.mean(foldAcc) #obtaining the mean acc\n",
    "        print(f\"\\nMean CV accuracy for neuron size {neurons}: {meanAcc}\\n\")\n",
    "        \n",
    "        \n",
    "        meanTime = np.mean(foldTimes) #obtaining the mean time\n",
    "        print(f\"Mean time taken to train network on last epoch for neuron size {neurons}: {meanTime}\\n\")\n",
    "        print(\"----------------------------------------\")\n",
    "            \n",
    "        \n",
    "\n",
    "        cross_validation_times.append(meanTime)\n",
    "        cross_validation_accuracies.append(meanAcc)\n",
    "\n",
    "        \n",
    "        \n",
    "    return cross_validation_accuracies, cross_validation_times\n",
    "\n",
    "\n",
    "\n",
    "\n",
    "'''\n",
    "optimal_bs = 0. Fill your optimal batch size in the following code.\n",
    "'''\n",
    "# YOUR CODE HERE\n",
    "\n",
    "\n",
    "\n",
    "\n",
    "#obtaining our X_train and y_train, and keeping X_test and y_test for later use\n",
    "label_encoder = preprocessing.LabelEncoder()\n",
    "\n",
    "df = pd.read_csv('simplified.csv')\n",
    "df['label'] = df['filename'].str.split('_').str[-2]\n",
    "df['label'] = label_encoder.fit_transform(df['label'])  #changing the labels from neg/pos to 1/0\n",
    "\n",
    "y = df['label'].to_numpy()\n",
    "X = df.drop([\"filename\",\"label\"], axis=1)\n",
    "\n",
    "#we will be keeping X_test and y_test for the testing later\n",
    "X_train, X_test, y_train, y_test = train_test_split(X, y, test_size=0.3, random_state = 1)\n",
    "\n",
    "\n",
    "\n",
    "num_neurons = [64, 128, 256]\n",
    "cross_validation_accuracies, cross_validation_times = find_optimal_hyperparameter(X_train.to_numpy(), y_train, num_neurons, 'num_neurons', 1024)"
   ]
  },
  {
   "cell_type": "code",
   "execution_count": null,
   "id": "13b4cce9-3a65-47fa-9b34-44b75de57dff",
   "metadata": {
    "deletable": false,
    "editable": false,
    "id": "13b4cce9-3a65-47fa-9b34-44b75de57dff",
    "nbgrader": {
     "cell_type": "code",
     "checksum": "975e552e751c4efb2cec0eac214f85cd",
     "grade": true,
     "grade_id": "correct_hyperparameter_tuning",
     "locked": true,
     "points": 1,
     "schema_version": 3,
     "solution": false,
     "task": false
    },
    "tags": []
   },
   "outputs": [],
   "source": []
  },
  {
   "cell_type": "markdown",
   "id": "b6756ab6-92e0-4a5e-b4b9-aebe009f5480",
   "metadata": {
    "deletable": false,
    "editable": false,
    "id": "b6756ab6-92e0-4a5e-b4b9-aebe009f5480",
    "nbgrader": {
     "cell_type": "markdown",
     "checksum": "0de56ab3a8b732e3ada17c55bc90a3cf",
     "grade": false,
     "grade_id": "cell-d0eceff23b1291e2",
     "locked": true,
     "schema_version": 3,
     "solution": false,
     "task": false
    }
   },
   "source": [
    "4. Plot the cross-validation accuracies against the number of epochs for different numbers of hidden-layer neurons. Limit the search space of the number of neurons to {64, 128, 256}."
   ]
  },
  {
   "cell_type": "code",
   "execution_count": 5,
   "id": "8fa3afdf-eed6-47b9-9acc-bc2304c46ec3",
   "metadata": {
    "deletable": false,
    "id": "8fa3afdf-eed6-47b9-9acc-bc2304c46ec3",
    "nbgrader": {
     "cell_type": "code",
     "checksum": "25582e96a2b85a5ce6e0cf48a58064bd",
     "grade": true,
     "grade_id": "cell-plot",
     "locked": false,
     "points": 2,
     "schema_version": 3,
     "solution": true,
     "task": false
    },
    "tags": []
   },
   "outputs": [
    {
     "data": {
      "image/png": "[encoded data removed]",
      "text/plain": [
       "<Figure size 432x288 with 1 Axes>"
      ]
     },
     "metadata": {
      "needs_background": "light"
     },
     "output_type": "display_data"
    }
   ],
   "source": [
    "# I will be following what the assignment PDF wants, which is the mean cv-accuracy on the final epoch, against the different number of hiddern-layer neurons\n",
    "# There seems to be a typo for the above point #4\n",
    "\n",
    "plt.figure(1)\n",
    "plt.plot(num_neurons, cross_validation_accuracies, marker = 'x', linestyle = 'None')\n",
    "plt.xticks(num_neurons)\n",
    "plt.xlabel('number of neurons')\n",
    "plt.ylabel('mean cv accuracies')\n",
    "plt.show()"
   ]
  },
  {
   "cell_type": "markdown",
   "id": "baab6e4d-4e8b-4358-a68d-682f60db4a06",
   "metadata": {
    "deletable": false,
    "editable": false,
    "id": "baab6e4d-4e8b-4358-a68d-682f60db4a06",
    "nbgrader": {
     "cell_type": "markdown",
     "checksum": "2024917155ea0cc8755c69415b4956cf",
     "grade": false,
     "grade_id": "part-1-3",
     "locked": true,
     "schema_version": 3,
     "solution": false,
     "task": false
    }
   },
   "source": [
    "5. Select the optimal number of neurons for the hidden layer. State the rationale for your selection."
   ]
  },
  {
   "cell_type": "code",
   "execution_count": 6,
   "id": "3e45a22d-9f20-441b-986b-dca35083abc3",
   "metadata": {
    "deletable": false,
    "id": "3e45a22d-9f20-441b-986b-dca35083abc3",
    "nbgrader": {
     "cell_type": "code",
     "checksum": "a8f1233c3ecacc38527a60e87185938b",
     "grade": false,
     "grade_id": "reason",
     "locked": false,
     "schema_version": 3,
     "solution": true,
     "task": false
    }
   },
   "outputs": [],
   "source": [
    "optimal_neurons = 256\n",
    "reason = \"256 neurons for the first hidden layer resulted in the highest mean cv accuracies for the last epoch.\"\n",
    "# YOUR CODE HERE"
   ]
  },
  {
   "cell_type": "code",
   "execution_count": null,
   "id": "e9a76852-5fd9-48e6-b6ee-d0b9277340fa",
   "metadata": {
    "deletable": false,
    "editable": false,
    "id": "e9a76852-5fd9-48e6-b6ee-d0b9277340fa",
    "nbgrader": {
     "cell_type": "code",
     "checksum": "d8632aa5f8381d571f8992f3196e7aab",
     "grade": true,
     "grade_id": "reason1",
     "locked": true,
     "points": 1,
     "schema_version": 3,
     "solution": false,
     "task": false
    }
   },
   "outputs": [],
   "source": []
  },
  {
   "cell_type": "markdown",
   "id": "ebf2dc5e-91d5-49dc-a05f-b9318f3371a7",
   "metadata": {
    "deletable": false,
    "editable": false,
    "id": "ebf2dc5e-91d5-49dc-a05f-b9318f3371a7",
    "nbgrader": {
     "cell_type": "markdown",
     "checksum": "4c609ceb4ecc2dac0684b1da17f44daa",
     "grade": false,
     "grade_id": "cell-302503e166f647c9",
     "locked": true,
     "schema_version": 3,
     "solution": false,
     "task": false
    }
   },
   "source": [
    "6. Plot the train and test accuracies against training epochs with the optimal number of neurons using a line plot."
   ]
  },
  {
   "cell_type": "code",
   "execution_count": 7,
   "id": "081aa567-cd92-4749-93fd-fc6608a1f6ae",
   "metadata": {
    "deletable": false,
    "id": "081aa567-cd92-4749-93fd-fc6608a1f6ae",
    "nbgrader": {
     "cell_type": "code",
     "checksum": "2776dd57325ada98de4534313e894572",
     "grade": true,
     "grade_id": "figure",
     "locked": false,
     "points": 2,
     "schema_version": 3,
     "solution": true,
     "task": false
    },
    "scrolled": false,
    "tags": []
   },
   "outputs": [
    {
     "data": {
      "text/plain": [
       "<matplotlib.legend.Legend at 0x1ed83308130>"
      ]
     },
     "execution_count": 7,
     "metadata": {},
     "output_type": "execute_result"
    },
    {
     "data": {
      "image/png": "[encoded data removed]",
      "text/plain": [
       "<Figure size 432x288 with 1 Axes>"
      ]
     },
     "metadata": {
      "needs_background": "light"
     },
     "output_type": "display_data"
    }
   ],
   "source": [
    "# YOUR CODE HERE\n",
    "\n",
    "# #preprocessing our X_train and X_test\n",
    "X_train_scaled, X_test_scaled = preprocess_dataset(X_train, X_test)\n",
    "\n",
    "\n",
    "no_features = 77\n",
    "no_labels = 2\n",
    "\n",
    "#initialising model with optimal neurons (256)\n",
    "model = MLP(no_features, optimal_neurons, no_labels)\n",
    "\n",
    "#starting our training\n",
    "train_acc_, train_loss_, test_acc_, test_loss_, times_ = train(model, X_train_scaled, y_train, X_test_scaled, y_test, 1024)\n",
    "\n",
    "\n",
    "plt.figure(2)\n",
    "plt.plot(range(len(train_acc_)), train_acc_, label='train')\n",
    "plt.plot(range(len(test_acc_)), test_acc_, label='test')\n",
    "plt.xlabel('epochs')\n",
    "plt.ylabel('classification accuracy')\n",
    "plt.legend()"
   ]
  }
 ],
 "metadata": {
  "colab": {
   "provenance": []
  },
  "kernelspec": {
   "display_name": "Python 3 (ipykernel)",
   "language": "python",
   "name": "python3"
  },
  "language_info": {
   "codemirror_mode": {
    "name": "ipython",
    "version": 3
   },
   "file_extension": ".py",
   "mimetype": "text/x-python",
   "name": "python",
   "nbconvert_exporter": "python",
   "pygments_lexer": "ipython3",
   "version": "3.9.12"
  }
 },
 "nbformat": 4,
 "nbformat_minor": 5
}
